{
 "cells": [
  {
   "cell_type": "markdown",
   "source": [
    "# Initial EDA\n",
    "\n",
    "### Goals:\n",
    "- ~~Filter data for only completed studies~~\n",
    "- Create NLP features\n",
    "- Filter feature list using RIG\n",
    "- Save processed data\n"
   ],
   "metadata": {
    "collapsed": false,
    "pycharm": {
     "name": "#%% md\n"
    }
   }
  },
  {
   "cell_type": "code",
   "execution_count": 1,
   "metadata": {
    "collapsed": true
   },
   "outputs": [],
   "source": [
    "import pandas as pd\n",
    "# import sklearn.tree\n",
    "from sklearn.feature_extraction.text import TfidfVectorizer, CountVectorizer\n",
    "# from sklearn.feature_selection import mutual_info_classif\n",
    "from sklearn.preprocessing import KBinsDiscretizer\n",
    "# from sklearn.tree import DecisionTreeClassifier\n",
    "# from sklearn import tree\n",
    "from sklearn.pipeline import make_pipeline, Pipeline, FeatureUnion\n",
    "\n",
    "from autotest_data.helper_functions import ModelTransformer, SampleExtractor, DenseTransformer"
   ]
  },
  {
   "cell_type": "markdown",
   "source": [
    "Load the data saved from the database."
   ],
   "metadata": {
    "collapsed": false,
    "pycharm": {
     "name": "#%% md\n"
    }
   }
  },
  {
   "cell_type": "code",
   "execution_count": 2,
   "outputs": [],
   "source": [
    "df = pd.read_csv(\"../data/00raw/main_table.csv.gz\")\n",
    "kw_df = pd.read_csv(\"../data/00raw/keywords_table.csv.gz\")"
   ],
   "metadata": {
    "collapsed": false,
    "pycharm": {
     "name": "#%%\n"
    }
   }
  },
  {
   "cell_type": "markdown",
   "source": [
    "It was not clear how to find completed studies from the database\n",
    "(there were two compelling flags)\n",
    "\n",
    "Checking the pivot table of those values to pick a filtering strategy."
   ],
   "metadata": {
    "collapsed": false,
    "pycharm": {
     "name": "#%% md\n"
    }
   }
  },
  {
   "cell_type": "code",
   "execution_count": 3,
   "outputs": [
    {
     "data": {
      "text/plain": "enrollment_type       Actual  Anticipated\ncompletion_date_type                     \nActual                  1164            0\nAnticipated              192          982",
      "text/html": "<div>\n<style scoped>\n    .dataframe tbody tr th:only-of-type {\n        vertical-align: middle;\n    }\n\n    .dataframe tbody tr th {\n        vertical-align: top;\n    }\n\n    .dataframe thead th {\n        text-align: right;\n    }\n</style>\n<table border=\"1\" class=\"dataframe\">\n  <thead>\n    <tr style=\"text-align: right;\">\n      <th>enrollment_type</th>\n      <th>Actual</th>\n      <th>Anticipated</th>\n    </tr>\n    <tr>\n      <th>completion_date_type</th>\n      <th></th>\n      <th></th>\n    </tr>\n  </thead>\n  <tbody>\n    <tr>\n      <th>Actual</th>\n      <td>1164</td>\n      <td>0</td>\n    </tr>\n    <tr>\n      <th>Anticipated</th>\n      <td>192</td>\n      <td>982</td>\n    </tr>\n  </tbody>\n</table>\n</div>"
     },
     "execution_count": 3,
     "metadata": {},
     "output_type": "execute_result"
    }
   ],
   "source": [
    "pd.crosstab(df['completion_date_type'], df['enrollment_type'])"
   ],
   "metadata": {
    "collapsed": false,
    "pycharm": {
     "name": "#%%\n"
    }
   }
  },
  {
   "cell_type": "markdown",
   "source": [
    "Complete the filter."
   ],
   "metadata": {
    "collapsed": false,
    "pycharm": {
     "name": "#%% md\n"
    }
   }
  },
  {
   "cell_type": "code",
   "execution_count": 4,
   "outputs": [],
   "source": [
    "df = df[df[\"completion_date_type\"]==\"Actual\"]\n",
    "kw_df = kw_df[kw_df[\"nct_id\"].isin(df[\"nct_id\"].unique())]"
   ],
   "metadata": {
    "collapsed": false,
    "pycharm": {
     "name": "#%%\n"
    }
   }
  },
  {
   "cell_type": "markdown",
   "source": [
    "Verify no missing data in the target column (enrollment)"
   ],
   "metadata": {
    "collapsed": false,
    "pycharm": {
     "name": "#%% md\n"
    }
   }
  },
  {
   "cell_type": "code",
   "execution_count": 5,
   "outputs": [
    {
     "data": {
      "text/plain": "nct_id                  0\nstart_date              0\nverification_date       0\ncompletion_date         0\ncompletion_date_type    0\nstudy_type              0\nbrief_title             0\nofficial_title          0\ndescription             0\nenrollment              0\nenrollment_type         0\ndtype: int64"
     },
     "execution_count": 5,
     "metadata": {},
     "output_type": "execute_result"
    }
   ],
   "source": [
    "df.isna().sum()"
   ],
   "metadata": {
    "collapsed": false,
    "pycharm": {
     "name": "#%%\n"
    }
   }
  },
  {
   "cell_type": "markdown",
   "source": [
    "### Investigate methods for selecting features by RIG\n",
    "\n",
    "- First create token counts / TF-IDF matrix from text column\n",
    "- Then try  using mutual_info_classifier\n",
    "    + not happy with the estimates process, even after discretizing the target\n",
    "- Then try computing with Decision Tree\n",
    "    + feature_importances are normamlized!\n",
    "    + digging into the tree give the optimal entropy change, still need to weight the average and divide"
   ],
   "metadata": {
    "collapsed": false,
    "pycharm": {
     "name": "#%% md\n"
    }
   }
  },
  {
   "cell_type": "code",
   "execution_count": 6,
   "outputs": [],
   "source": [
    "# X, Y = df[\"brief_title\"], df[[\"enrollment\"]]"
   ],
   "metadata": {
    "collapsed": false,
    "pycharm": {
     "name": "#%%\n"
    }
   }
  },
  {
   "cell_type": "code",
   "execution_count": 7,
   "outputs": [],
   "source": [
    "# cvec = TfidfVectorizer(\n",
    "#     stop_words=\"english\",\n",
    "#     max_features=50,\n",
    "# )\n",
    "#\n",
    "# discritizer = KBinsDiscretizer(\n",
    "#     n_bins=6,\n",
    "#     encode=\"ordinal\",\n",
    "# )"
   ],
   "metadata": {
    "collapsed": false,
    "pycharm": {
     "name": "#%%\n"
    }
   }
  },
  {
   "cell_type": "code",
   "execution_count": 8,
   "outputs": [],
   "source": [
    "# X_vec = cvec.fit_transform(X)\n",
    "# Y_discrete = discritizer.fit_transform(Y)"
   ],
   "metadata": {
    "collapsed": false,
    "pycharm": {
     "name": "#%%\n"
    }
   }
  },
  {
   "cell_type": "code",
   "execution_count": 9,
   "outputs": [],
   "source": [
    "# res = dict(zip(cvec.get_feature_names_out(),\n",
    "#                mutual_info_classif(X_vec, Y_discrete[:,0], discrete_features=True)\n",
    "#                ))"
   ],
   "metadata": {
    "collapsed": false,
    "pycharm": {
     "name": "#%%\n"
    }
   }
  },
  {
   "cell_type": "code",
   "execution_count": 10,
   "outputs": [],
   "source": [
    "# dt = DecisionTreeClassifier(\n",
    "#     criterion=\"entropy\",\n",
    "#     max_depth=1,\n",
    "# )\n",
    "#\n",
    "# dt.fit(X_vec[:,[11]], Y_discrete[:,0])\n",
    "# dt.tree_.node_count\n",
    "# tree.plot_tree(dt)\n",
    "# dt.tree_.impurity\n",
    "# dt.tree_.capacity\n",
    "# dt.tree_.n_node_samples\n"
   ],
   "metadata": {
    "collapsed": false,
    "pycharm": {
     "name": "#%%\n"
    }
   }
  },
  {
   "cell_type": "markdown",
   "source": [
    "### create pipeline for vectorizing token counts"
   ],
   "metadata": {
    "collapsed": false,
    "pycharm": {
     "name": "#%% md\n"
    }
   }
  },
  {
   "cell_type": "code",
   "execution_count": 11,
   "outputs": [],
   "source": [
    "# create a pipeline to convert text columns to token count columns\n",
    "# Using simple counts to be safe with no train/test split\n",
    "binary = False\n",
    "feats = 50\n",
    "\n",
    "def text_pipeline(column_name, binary_flag, max_feats):\n",
    "    return Pipeline([\n",
    "                      ('text',SampleExtractor([column_name])),\n",
    "                      ('dummify', CountVectorizer(binary=binary_flag,\n",
    "                                                  max_features=max_feats,\n",
    "                                                  stop_words=\"english\")),\n",
    "                      ('densify', DenseTransformer()),\n",
    "                     ])\n",
    "\n",
    "pipeline = Pipeline([\n",
    "    ('features', FeatureUnion([\n",
    "        ('brief_title', text_pipeline(\"brief_title\", binary, feats)),\n",
    "        ('official_title', text_pipeline(\"official_title\", binary, feats)),\n",
    "        ('description', text_pipeline(\"description\", binary, feats)),\n",
    "        ('cont_features', Pipeline([\n",
    "                      ('continuous', SampleExtractor(['nct_id','enrollment'])), # potential bug when extracting single column\n",
    "                      ])),\n",
    "        ])),\n",
    "])\n",
    "# learn the vocabularies for each column\n",
    "pipeline.fit(df)\n",
    "\n",
    "# create column headers from vocabularies\n",
    "col_names = []\n",
    "col_names.extend([\"brief_title_\" + col for col in pipeline.steps[0][1].transformer_list[0][1].steps[1][1].get_feature_names_out()])\n",
    "col_names.extend([\"official_title_\" + col for col in pipeline.steps[0][1].transformer_list[1][1].steps[1][1].get_feature_names_out()])\n",
    "col_names.extend([\"description_\" + col for col in pipeline.steps[0][1].transformer_list[2][1].steps[1][1].get_feature_names_out()])\n",
    "col_names.extend([\"nct_id\", \"enrollment\"])\n",
    "\n",
    "# generate transformed data_frame\n",
    "X = pd.DataFrame(pipeline.transform(df), columns=col_names)"
   ],
   "metadata": {
    "collapsed": false,
    "pycharm": {
     "name": "#%%\n"
    }
   }
  },
  {
   "cell_type": "code",
   "execution_count": 12,
   "outputs": [
    {
     "data": {
      "text/plain": "(1164, 152)"
     },
     "execution_count": 12,
     "metadata": {},
     "output_type": "execute_result"
    }
   ],
   "source": [
    "X.shape"
   ],
   "metadata": {
    "collapsed": false,
    "pycharm": {
     "name": "#%%\n"
    }
   }
  },
  {
   "cell_type": "code",
   "execution_count": 13,
   "outputs": [],
   "source": [
    "X.to_csv(\"../data/01interim/main_table_vectorized.csv.gz\",index=False)"
   ],
   "metadata": {
    "collapsed": false,
    "pycharm": {
     "name": "#%%\n"
    }
   }
  },
  {
   "cell_type": "code",
   "execution_count": 24,
   "outputs": [
    {
     "data": {
      "text/plain": "name\nbrain stimulation     2\nquality of life       3\nBalance               3\nGlucose               3\nBioavailability       3\npostoperative pain    3\nQuality of Life       3\nhypertension          3\nInflammation          3\nHepatic Impairment    3\nmemory                3\nSleep                 3\nmanual therapy        3\nspasticity            3\nHealthy subjects      3\nWalking               3\nMental Disorders      3\nRehabilitation        3\nPain                  3\nAsthma                3\ntDCS                  3\nStress                3\nHeart Failure         3\nPolyphenols           3\nHBV                   3\nbreast cancer         3\nDepression            3\nMultiple sclerosis    3\neczema                3\nmicrobiome            3\natopic dermatitis     3\nsimulation            3\nchildren              3\nmortality             4\nimmunogenicity        4\nmHealth               4\ngeneral anesthesia    4\ncancer                4\ninflammation          4\nTelemedicine          4\nNursing               4\nsafety                4\nExercise              5\npain                  5\nStroke                5\nCOPD                  5\nPhysical Activity     5\nstroke                6\nCognition             6\nPharmacokinetics      7\ndtype: int64"
     },
     "execution_count": 24,
     "metadata": {},
     "output_type": "execute_result"
    }
   ],
   "source": [
    "# naive tabulations.... too many keywords, switching to tokens\n",
    "pd.crosstab(kw_df[\"nct_id\"], kw_df[\"name\"]).sum(axis=0).sort_values().tail(50)"
   ],
   "metadata": {
    "collapsed": false,
    "pycharm": {
     "name": "#%%\n"
    }
   }
  },
  {
   "cell_type": "code",
   "execution_count": 39,
   "outputs": [
    {
     "data": {
      "text/plain": "array(['agents', 'anesthesia', 'block', 'brain', 'breast', 'cancer',\n       'care', 'chronic', 'cognitive', 'control', 'diabetes', 'disease',\n       'disorder', 'disorders', 'education', 'exercise', 'failure',\n       'function', 'health', 'healthy', 'heart', 'heart failure',\n       'intervention', 'life', 'low', 'lung', 'monitoring', 'non', 'pain',\n       'patient', 'performance', 'physical', 'postoperative', 'pressure',\n       'primary', 'quality', 'quality life', 'respiratory', 'risk',\n       'sleep', 'stimulation', 'stroke', 'surgery', 'syndrome', 'therapy',\n       'training', 'treatment', 'type', 'type diabetes', 'vaccine'],\n      dtype=object)"
     },
     "execution_count": 39,
     "metadata": {},
     "output_type": "execute_result"
    }
   ],
   "source": [
    "cvec = CountVectorizer(\n",
    "    stop_words=\"english\",\n",
    "    max_features=50,\n",
    "    ngram_range=(1,3),\n",
    "    binary=True,\n",
    ")\n",
    "\n",
    "cvec.fit(kw_df[\"name\"])\n",
    "cvec.get_feature_names_out()"
   ],
   "metadata": {
    "collapsed": false,
    "pycharm": {
     "name": "#%%\n"
    }
   }
  },
  {
   "cell_type": "code",
   "execution_count": 45,
   "outputs": [
    {
     "data": {
      "text/plain": "agents           11\nanesthesia       13\nblock            11\nbrain            12\nbreast           10\ncancer           36\ncare             27\nchronic          14\ncognitive        14\ncontrol           9\ndiabetes         24\ndisease          34\ndisorder         11\ndisorders        10\neducation        11\nexercise         19\nfailure          12\nfunction         12\nhealth           17\nhealthy          14\nheart            14\nheart failure    11\nintervention     17\nlife             13\nlow              16\nlung             10\nmonitoring       12\nnon              12\npain             38\npatient          14\nperformance      10\nphysical         11\npostoperative    11\npressure         13\nprimary          10\nquality          16\nquality life     11\nrespiratory      11\nrisk             11\nsleep             9\nstimulation       9\nstroke           16\nsurgery          22\nsyndrome         10\ntherapy          32\ntraining         13\ntreatment        13\ntype             17\ntype diabetes     9\nvaccine          13\ndtype: int64"
     },
     "execution_count": 45,
     "metadata": {},
     "output_type": "execute_result"
    }
   ],
   "source": [
    "X = pd.DataFrame(\n",
    "    cvec.transform(kw_df[\"name\"]).todense(),\n",
    "    columns=cvec.get_feature_names_out()\n",
    ")\n",
    "X.sum()"
   ],
   "metadata": {
    "collapsed": false,
    "pycharm": {
     "name": "#%%\n"
    }
   }
  },
  {
   "cell_type": "code",
   "execution_count": 42,
   "outputs": [
    {
     "data": {
      "text/plain": "           nct_id                                         name\n427   NCT03338465          Greater Trochanteric Pain Syndrome,\n1243  NCT03501420                   Primary Sjögren's Syndrome\n1267  NCT03503461                              Gordon syndrome\n1456  NCT03514420  Kobberling-Dunnigan syndrome (type 1 and 2)\n2048  NCT03547609                              Kabuki Syndrome\n2059  NCT03548259                       Carpal Tunnel Syndrome\n2190  NCT03555617                     Irritable Bowel Syndrome\n3072  NCT03602482                postural tachycardia syndrome\n3461  NCT03688516                     Williams-Beuren syndrome\n4167  NCT04075032                           metabolic syndrome",
      "text/html": "<div>\n<style scoped>\n    .dataframe tbody tr th:only-of-type {\n        vertical-align: middle;\n    }\n\n    .dataframe tbody tr th {\n        vertical-align: top;\n    }\n\n    .dataframe thead th {\n        text-align: right;\n    }\n</style>\n<table border=\"1\" class=\"dataframe\">\n  <thead>\n    <tr style=\"text-align: right;\">\n      <th></th>\n      <th>nct_id</th>\n      <th>name</th>\n    </tr>\n  </thead>\n  <tbody>\n    <tr>\n      <th>427</th>\n      <td>NCT03338465</td>\n      <td>Greater Trochanteric Pain Syndrome,</td>\n    </tr>\n    <tr>\n      <th>1243</th>\n      <td>NCT03501420</td>\n      <td>Primary Sjögren's Syndrome</td>\n    </tr>\n    <tr>\n      <th>1267</th>\n      <td>NCT03503461</td>\n      <td>Gordon syndrome</td>\n    </tr>\n    <tr>\n      <th>1456</th>\n      <td>NCT03514420</td>\n      <td>Kobberling-Dunnigan syndrome (type 1 and 2)</td>\n    </tr>\n    <tr>\n      <th>2048</th>\n      <td>NCT03547609</td>\n      <td>Kabuki Syndrome</td>\n    </tr>\n    <tr>\n      <th>2059</th>\n      <td>NCT03548259</td>\n      <td>Carpal Tunnel Syndrome</td>\n    </tr>\n    <tr>\n      <th>2190</th>\n      <td>NCT03555617</td>\n      <td>Irritable Bowel Syndrome</td>\n    </tr>\n    <tr>\n      <th>3072</th>\n      <td>NCT03602482</td>\n      <td>postural tachycardia syndrome</td>\n    </tr>\n    <tr>\n      <th>3461</th>\n      <td>NCT03688516</td>\n      <td>Williams-Beuren syndrome</td>\n    </tr>\n    <tr>\n      <th>4167</th>\n      <td>NCT04075032</td>\n      <td>metabolic syndrome</td>\n    </tr>\n  </tbody>\n</table>\n</div>"
     },
     "execution_count": 42,
     "metadata": {},
     "output_type": "execute_result"
    }
   ],
   "source": [
    "# spot check count for random term\n",
    "kw_df[kw_df[\"name\"].str.lower().str.contains(\"syndrome\")]"
   ],
   "metadata": {
    "collapsed": false,
    "pycharm": {
     "name": "#%%\n"
    }
   }
  },
  {
   "cell_type": "code",
   "execution_count": 56,
   "outputs": [
    {
     "data": {
      "text/plain": "             agents  anesthesia  block  brain  breast  cancer  care  chronic  \\\nnct_id                                                                         \nNCT01893658       0           0      0      0       0       0     0        0   \nNCT02689713       0           0      0      0       0       0     0        0   \nNCT02744079       0           0      0      0       1       2     0        0   \nNCT02771600       0           0      0      0       0       0     0        0   \nNCT02779543       0           0      0      0       0       0     0        0   \n...             ...         ...    ...    ...     ...     ...   ...      ...   \nNCT05127083       0           0      0      0       0       0     0        0   \nNCT05134493       0           0      0      0       0       0     0        0   \nNCT05141851       0           0      0      0       0       0     0        0   \nNCT05169476       0           0      0      0       0       0     0        0   \nNCT05185752       0           1      3      0       1       0     0        0   \n\n             cognitive  control  ...  stimulation  stroke  surgery  syndrome  \\\nnct_id                           ...                                           \nNCT01893658          0        0  ...            0       0        0         0   \nNCT02689713          0        0  ...            0       0        0         0   \nNCT02744079          0        0  ...            0       0        0         0   \nNCT02771600          0        0  ...            0       0        0         0   \nNCT02779543          0        0  ...            0       0        0         0   \n...                ...      ...  ...          ...     ...      ...       ...   \nNCT05127083          0        0  ...            0       0        0         0   \nNCT05134493          0        0  ...            0       1        0         0   \nNCT05141851          0        0  ...            0       0        0         0   \nNCT05169476          0        0  ...            0       0        0         0   \nNCT05185752          0        0  ...            0       0        1         0   \n\n             therapy  training  treatment  type  type diabetes  vaccine  \nnct_id                                                                   \nNCT01893658        0         0          0     0              0        0  \nNCT02689713        0         0          0     0              0        0  \nNCT02744079        0         0          0     0              0        0  \nNCT02771600        0         0          0     0              0        0  \nNCT02779543        0         0          0     0              0        0  \n...              ...       ...        ...   ...            ...      ...  \nNCT05127083        1         0          0     0              0        0  \nNCT05134493        0         0          0     0              0        0  \nNCT05141851        0         0          0     0              0        0  \nNCT05169476        0         0          0     0              0        0  \nNCT05185752        0         0          0     0              0        0  \n\n[633 rows x 50 columns]",
      "text/html": "<div>\n<style scoped>\n    .dataframe tbody tr th:only-of-type {\n        vertical-align: middle;\n    }\n\n    .dataframe tbody tr th {\n        vertical-align: top;\n    }\n\n    .dataframe thead th {\n        text-align: right;\n    }\n</style>\n<table border=\"1\" class=\"dataframe\">\n  <thead>\n    <tr style=\"text-align: right;\">\n      <th></th>\n      <th>agents</th>\n      <th>anesthesia</th>\n      <th>block</th>\n      <th>brain</th>\n      <th>breast</th>\n      <th>cancer</th>\n      <th>care</th>\n      <th>chronic</th>\n      <th>cognitive</th>\n      <th>control</th>\n      <th>...</th>\n      <th>stimulation</th>\n      <th>stroke</th>\n      <th>surgery</th>\n      <th>syndrome</th>\n      <th>therapy</th>\n      <th>training</th>\n      <th>treatment</th>\n      <th>type</th>\n      <th>type diabetes</th>\n      <th>vaccine</th>\n    </tr>\n    <tr>\n      <th>nct_id</th>\n      <th></th>\n      <th></th>\n      <th></th>\n      <th></th>\n      <th></th>\n      <th></th>\n      <th></th>\n      <th></th>\n      <th></th>\n      <th></th>\n      <th></th>\n      <th></th>\n      <th></th>\n      <th></th>\n      <th></th>\n      <th></th>\n      <th></th>\n      <th></th>\n      <th></th>\n      <th></th>\n      <th></th>\n    </tr>\n  </thead>\n  <tbody>\n    <tr>\n      <th>NCT01893658</th>\n      <td>0</td>\n      <td>0</td>\n      <td>0</td>\n      <td>0</td>\n      <td>0</td>\n      <td>0</td>\n      <td>0</td>\n      <td>0</td>\n      <td>0</td>\n      <td>0</td>\n      <td>...</td>\n      <td>0</td>\n      <td>0</td>\n      <td>0</td>\n      <td>0</td>\n      <td>0</td>\n      <td>0</td>\n      <td>0</td>\n      <td>0</td>\n      <td>0</td>\n      <td>0</td>\n    </tr>\n    <tr>\n      <th>NCT02689713</th>\n      <td>0</td>\n      <td>0</td>\n      <td>0</td>\n      <td>0</td>\n      <td>0</td>\n      <td>0</td>\n      <td>0</td>\n      <td>0</td>\n      <td>0</td>\n      <td>0</td>\n      <td>...</td>\n      <td>0</td>\n      <td>0</td>\n      <td>0</td>\n      <td>0</td>\n      <td>0</td>\n      <td>0</td>\n      <td>0</td>\n      <td>0</td>\n      <td>0</td>\n      <td>0</td>\n    </tr>\n    <tr>\n      <th>NCT02744079</th>\n      <td>0</td>\n      <td>0</td>\n      <td>0</td>\n      <td>0</td>\n      <td>1</td>\n      <td>2</td>\n      <td>0</td>\n      <td>0</td>\n      <td>0</td>\n      <td>0</td>\n      <td>...</td>\n      <td>0</td>\n      <td>0</td>\n      <td>0</td>\n      <td>0</td>\n      <td>0</td>\n      <td>0</td>\n      <td>0</td>\n      <td>0</td>\n      <td>0</td>\n      <td>0</td>\n    </tr>\n    <tr>\n      <th>NCT02771600</th>\n      <td>0</td>\n      <td>0</td>\n      <td>0</td>\n      <td>0</td>\n      <td>0</td>\n      <td>0</td>\n      <td>0</td>\n      <td>0</td>\n      <td>0</td>\n      <td>0</td>\n      <td>...</td>\n      <td>0</td>\n      <td>0</td>\n      <td>0</td>\n      <td>0</td>\n      <td>0</td>\n      <td>0</td>\n      <td>0</td>\n      <td>0</td>\n      <td>0</td>\n      <td>0</td>\n    </tr>\n    <tr>\n      <th>NCT02779543</th>\n      <td>0</td>\n      <td>0</td>\n      <td>0</td>\n      <td>0</td>\n      <td>0</td>\n      <td>0</td>\n      <td>0</td>\n      <td>0</td>\n      <td>0</td>\n      <td>0</td>\n      <td>...</td>\n      <td>0</td>\n      <td>0</td>\n      <td>0</td>\n      <td>0</td>\n      <td>0</td>\n      <td>0</td>\n      <td>0</td>\n      <td>0</td>\n      <td>0</td>\n      <td>0</td>\n    </tr>\n    <tr>\n      <th>...</th>\n      <td>...</td>\n      <td>...</td>\n      <td>...</td>\n      <td>...</td>\n      <td>...</td>\n      <td>...</td>\n      <td>...</td>\n      <td>...</td>\n      <td>...</td>\n      <td>...</td>\n      <td>...</td>\n      <td>...</td>\n      <td>...</td>\n      <td>...</td>\n      <td>...</td>\n      <td>...</td>\n      <td>...</td>\n      <td>...</td>\n      <td>...</td>\n      <td>...</td>\n      <td>...</td>\n    </tr>\n    <tr>\n      <th>NCT05127083</th>\n      <td>0</td>\n      <td>0</td>\n      <td>0</td>\n      <td>0</td>\n      <td>0</td>\n      <td>0</td>\n      <td>0</td>\n      <td>0</td>\n      <td>0</td>\n      <td>0</td>\n      <td>...</td>\n      <td>0</td>\n      <td>0</td>\n      <td>0</td>\n      <td>0</td>\n      <td>1</td>\n      <td>0</td>\n      <td>0</td>\n      <td>0</td>\n      <td>0</td>\n      <td>0</td>\n    </tr>\n    <tr>\n      <th>NCT05134493</th>\n      <td>0</td>\n      <td>0</td>\n      <td>0</td>\n      <td>0</td>\n      <td>0</td>\n      <td>0</td>\n      <td>0</td>\n      <td>0</td>\n      <td>0</td>\n      <td>0</td>\n      <td>...</td>\n      <td>0</td>\n      <td>1</td>\n      <td>0</td>\n      <td>0</td>\n      <td>0</td>\n      <td>0</td>\n      <td>0</td>\n      <td>0</td>\n      <td>0</td>\n      <td>0</td>\n    </tr>\n    <tr>\n      <th>NCT05141851</th>\n      <td>0</td>\n      <td>0</td>\n      <td>0</td>\n      <td>0</td>\n      <td>0</td>\n      <td>0</td>\n      <td>0</td>\n      <td>0</td>\n      <td>0</td>\n      <td>0</td>\n      <td>...</td>\n      <td>0</td>\n      <td>0</td>\n      <td>0</td>\n      <td>0</td>\n      <td>0</td>\n      <td>0</td>\n      <td>0</td>\n      <td>0</td>\n      <td>0</td>\n      <td>0</td>\n    </tr>\n    <tr>\n      <th>NCT05169476</th>\n      <td>0</td>\n      <td>0</td>\n      <td>0</td>\n      <td>0</td>\n      <td>0</td>\n      <td>0</td>\n      <td>0</td>\n      <td>0</td>\n      <td>0</td>\n      <td>0</td>\n      <td>...</td>\n      <td>0</td>\n      <td>0</td>\n      <td>0</td>\n      <td>0</td>\n      <td>0</td>\n      <td>0</td>\n      <td>0</td>\n      <td>0</td>\n      <td>0</td>\n      <td>0</td>\n    </tr>\n    <tr>\n      <th>NCT05185752</th>\n      <td>0</td>\n      <td>1</td>\n      <td>3</td>\n      <td>0</td>\n      <td>1</td>\n      <td>0</td>\n      <td>0</td>\n      <td>0</td>\n      <td>0</td>\n      <td>0</td>\n      <td>...</td>\n      <td>0</td>\n      <td>0</td>\n      <td>1</td>\n      <td>0</td>\n      <td>0</td>\n      <td>0</td>\n      <td>0</td>\n      <td>0</td>\n      <td>0</td>\n      <td>0</td>\n    </tr>\n  </tbody>\n</table>\n<p>633 rows × 50 columns</p>\n</div>"
     },
     "execution_count": 56,
     "metadata": {},
     "output_type": "execute_result"
    }
   ],
   "source": [
    "# remove index from kw_df version since filtered rows won't match X index\n",
    "X[\"nct_id\"] = kw_df[\"nct_id\"].values\n",
    "\n",
    "X = X.groupby(\"nct_id\").sum()\n",
    "X"
   ],
   "metadata": {
    "collapsed": false,
    "pycharm": {
     "name": "#%%\n"
    }
   }
  },
  {
   "cell_type": "code",
   "execution_count": 57,
   "outputs": [
    {
     "data": {
      "text/plain": "633"
     },
     "execution_count": 57,
     "metadata": {},
     "output_type": "execute_result"
    }
   ],
   "source": [
    "# check number of nct_id values matches rows in X\n",
    "kw_df[\"nct_id\"].nunique()"
   ],
   "metadata": {
    "collapsed": false,
    "pycharm": {
     "name": "#%%\n"
    }
   }
  },
  {
   "cell_type": "code",
   "execution_count": 55,
   "outputs": [
    {
     "data": {
      "text/plain": "             name\nnct_id           \nNCT01893658     5\nNCT02689713     4\nNCT02744079    10\nNCT02771600     4\nNCT02779543     1\n...           ...\nNCT05127083     1\nNCT05134493     7\nNCT05141851     1\nNCT05169476     3\nNCT05185752     5\n\n[633 rows x 1 columns]",
      "text/html": "<div>\n<style scoped>\n    .dataframe tbody tr th:only-of-type {\n        vertical-align: middle;\n    }\n\n    .dataframe tbody tr th {\n        vertical-align: top;\n    }\n\n    .dataframe thead th {\n        text-align: right;\n    }\n</style>\n<table border=\"1\" class=\"dataframe\">\n  <thead>\n    <tr style=\"text-align: right;\">\n      <th></th>\n      <th>name</th>\n    </tr>\n    <tr>\n      <th>nct_id</th>\n      <th></th>\n    </tr>\n  </thead>\n  <tbody>\n    <tr>\n      <th>NCT01893658</th>\n      <td>5</td>\n    </tr>\n    <tr>\n      <th>NCT02689713</th>\n      <td>4</td>\n    </tr>\n    <tr>\n      <th>NCT02744079</th>\n      <td>10</td>\n    </tr>\n    <tr>\n      <th>NCT02771600</th>\n      <td>4</td>\n    </tr>\n    <tr>\n      <th>NCT02779543</th>\n      <td>1</td>\n    </tr>\n    <tr>\n      <th>...</th>\n      <td>...</td>\n    </tr>\n    <tr>\n      <th>NCT05127083</th>\n      <td>1</td>\n    </tr>\n    <tr>\n      <th>NCT05134493</th>\n      <td>7</td>\n    </tr>\n    <tr>\n      <th>NCT05141851</th>\n      <td>1</td>\n    </tr>\n    <tr>\n      <th>NCT05169476</th>\n      <td>3</td>\n    </tr>\n    <tr>\n      <th>NCT05185752</th>\n      <td>5</td>\n    </tr>\n  </tbody>\n</table>\n<p>633 rows × 1 columns</p>\n</div>"
     },
     "execution_count": 55,
     "metadata": {},
     "output_type": "execute_result"
    }
   ],
   "source": [
    "# from deeper investigation when rows mismatched...\n",
    "kw_df.groupby(\"nct_id\").count()"
   ],
   "metadata": {
    "collapsed": false,
    "pycharm": {
     "name": "#%%\n"
    }
   }
  },
  {
   "cell_type": "code",
   "execution_count": 58,
   "outputs": [],
   "source": [
    "X.to_csv(\"../data/01interim/keywords_table_vectorized.csv.gz\",index=False)"
   ],
   "metadata": {
    "collapsed": false,
    "pycharm": {
     "name": "#%%\n"
    }
   }
  },
  {
   "cell_type": "code",
   "execution_count": null,
   "outputs": [],
   "source": [],
   "metadata": {
    "collapsed": false,
    "pycharm": {
     "name": "#%%\n"
    }
   }
  }
 ],
 "metadata": {
  "kernelspec": {
   "display_name": "Python 3",
   "language": "python",
   "name": "python3"
  },
  "language_info": {
   "codemirror_mode": {
    "name": "ipython",
    "version": 2
   },
   "file_extension": ".py",
   "mimetype": "text/x-python",
   "name": "python",
   "nbconvert_exporter": "python",
   "pygments_lexer": "ipython2",
   "version": "2.7.6"
  }
 },
 "nbformat": 4,
 "nbformat_minor": 0
}